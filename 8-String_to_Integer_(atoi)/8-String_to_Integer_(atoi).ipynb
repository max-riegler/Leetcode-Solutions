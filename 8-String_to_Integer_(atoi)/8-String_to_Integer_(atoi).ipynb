{
 "cells": [
  {
   "cell_type": "code",
   "execution_count": null,
   "metadata": {},
   "outputs": [],
   "source": [
    "class Solution:\n",
    "    def myAtoi(self, s: str) -> int:\n",
    "\n",
    "sol = Solution()\n",
    "\n",
    "print(sol.myAtoi(1534236469))"
   ]
  }
 ],
 "metadata": {
  "kernelspec": {
   "display_name": "Python 3",
   "language": "python",
   "name": "python3"
  },
  "language_info": {
   "name": "python",
   "version": "3.10.5 (tags/v3.10.5:f377153, Jun  6 2022, 16:14:13) [MSC v.1929 64 bit (AMD64)]"
  },
  "orig_nbformat": 4,
  "vscode": {
   "interpreter": {
    "hash": "98831b6e6cd6916dc543c5e2437fa0b106b838536832cab840583692f7e09b14"
   }
  }
 },
 "nbformat": 4,
 "nbformat_minor": 2
}
