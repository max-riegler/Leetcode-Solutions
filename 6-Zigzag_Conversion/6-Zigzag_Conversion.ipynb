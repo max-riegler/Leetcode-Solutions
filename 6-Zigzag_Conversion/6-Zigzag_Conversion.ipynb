{
 "cells": [
  {
   "cell_type": "code",
   "execution_count": 118,
   "metadata": {},
   "outputs": [
    {
     "name": "stdout",
     "output_type": "stream",
     "text": [
      "ACEBD\n"
     ]
    }
   ],
   "source": [
    "class Solution:\n",
    "    def convert(self, s: str, numRows: int) -> str:\n",
    "        \n",
    "        dummylist = []\n",
    "        res= \"\"\n",
    "\n",
    "        for x in s: dummylist.append(x)\n",
    "\n",
    "        if numRows >= len(s) or numRows == 1: return s\n",
    "\n",
    "        elif numRows == 2:\n",
    "            return s[::2] + s[1::2]\n",
    "        else:\n",
    "            for i in range(numRows):\n",
    "                for j in range((len(s) // numRows)):\n",
    "                    if i + j * ((2 * numRows) - 2) < len(s):\n",
    "                        if i == 0 or i == numRows - 1:\n",
    "                            res += str(dummylist[i + j * ((2 * numRows) - 2)])\n",
    "                        elif (j + 1) * ((2 * numRows) - 2) - i < len(s):\n",
    "                            res += str(dummylist[i + j * ((2 * numRows) - 2)]) + str(dummylist[(j + 1) * ((2 * numRows) - 2) - i])\n",
    "                        elif (j + 1) * ((2 * numRows) - 2) - i >= len(s):\n",
    "                            res += str(dummylist[i + j * ((2 * numRows) - 2)])\n",
    "            return res\n",
    "\n",
    "sol = Solution()\n",
    "\n",
    "print(sol.convert(\"ABCDE\",2))"
   ]
  },
  {
   "cell_type": "code",
   "execution_count": 192,
   "metadata": {},
   "outputs": [
    {
     "name": "stdout",
     "output_type": "stream",
     "text": [
      "AEBDC\n"
     ]
    }
   ],
   "source": [
    "class Solution:\n",
    "\n",
    "    def convert(self, s: str, numRows: int) -> str:\n",
    "        # Function that concatenates alternating strings of different length\n",
    "        def alt(s, t):\n",
    "            if not (s and t):\n",
    "                return s + t\n",
    "            return s[0] + t[0] + alt(s[1:], t[1:])\n",
    "            \n",
    "        spacing = 2 * (numRows - 1)\n",
    "        res = \"\"\n",
    "\n",
    "        if numRows >= len(s) or numRows == 1: return s\n",
    "\n",
    "        elif numRows == 2:\n",
    "            return s[::2] + s[1::2]\n",
    "        else:\n",
    "            for i in range(numRows):\n",
    "                if i == 0 or i == numRows - 1:\n",
    "                    res += s[i::spacing]\n",
    "                else:\n",
    "                    res += alt(s[i::spacing],s[spacing - (2 * i) + i::spacing])\n",
    "            return res\n",
    "\n",
    "sol = Solution()\n",
    "\n",
    "print(sol.convert(\"ABCDE\",3))"
   ]
  },
  {
   "cell_type": "code",
   "execution_count": 193,
   "metadata": {},
   "outputs": [
    {
     "name": "stdout",
     "output_type": "stream",
     "text": [
      "AEBDC\n"
     ]
    }
   ],
   "source": [
    "# Elegant Solution\n",
    "\n",
    "class Solution:\n",
    "    def convert(self, s: str, numRows: int) -> str:\n",
    "        if numRows == 1 or numRows >= len(s):\n",
    "            return s\n",
    "        \n",
    "        zigzag = [\"\" for x in range(numRows)]\n",
    "        row, step = 0, 1\n",
    "        \n",
    "        for crct in s:\n",
    "            zigzag[row] += crct\n",
    "            \n",
    "            if row == 0:\n",
    "               step = 1\n",
    "            elif row == numRows - 1:\n",
    "               step = -1\n",
    "            \n",
    "            row += step\n",
    "            \n",
    "        return \"\".join(zigzag)\n",
    "\n",
    "sol = Solution()\n",
    "\n",
    "print(sol.convert(\"ABCDE\",3))"
   ]
  }
 ],
 "metadata": {
  "kernelspec": {
   "display_name": "Python 3",
   "language": "python",
   "name": "python3"
  },
  "language_info": {
   "codemirror_mode": {
    "name": "ipython",
    "version": 3
   },
   "file_extension": ".py",
   "mimetype": "text/x-python",
   "name": "python",
   "nbconvert_exporter": "python",
   "pygments_lexer": "ipython3",
   "version": "3.10.5"
  },
  "orig_nbformat": 4,
  "vscode": {
   "interpreter": {
    "hash": "98831b6e6cd6916dc543c5e2437fa0b106b838536832cab840583692f7e09b14"
   }
  }
 },
 "nbformat": 4,
 "nbformat_minor": 2
}
