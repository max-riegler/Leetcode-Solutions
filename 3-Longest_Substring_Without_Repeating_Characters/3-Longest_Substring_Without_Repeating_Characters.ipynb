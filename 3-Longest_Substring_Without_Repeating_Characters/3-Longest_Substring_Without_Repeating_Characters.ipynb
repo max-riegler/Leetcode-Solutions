{
 "cells": [
  {
   "cell_type": "code",
   "execution_count": 36,
   "metadata": {},
   "outputs": [
    {
     "name": "stdout",
     "output_type": "stream",
     "text": [
      "d 1\n",
      "dv 2\n",
      "d 2\n",
      "df 2\n",
      "2\n"
     ]
    }
   ],
   "source": [
    "class Solution:\n",
    "    def lengthOfLongestSubstring(self, s: str) -> int:\n",
    "        \n",
    "        dummy = \"\"\n",
    "        res = 0\n",
    "\n",
    "        for n in s:\n",
    "            if n not in dummy: \n",
    "                dummy += n\n",
    "                res = len(dummy)\n",
    "                print(dummy, res)\n",
    "            elif n in dummy:\n",
    "                if len(dummy) > res: res = len(dummy)\n",
    "                dummy = n\n",
    "                print(dummy, res)\n",
    "        \n",
    "        return res\n",
    "\n",
    "sol = Solution()\n",
    "\n",
    "print(sol.lengthOfLongestSubstring(\"dvdf\"))"
   ]
  },
  {
   "cell_type": "code",
   "execution_count": 12,
   "metadata": {},
   "outputs": [
    {
     "name": "stdout",
     "output_type": "stream",
     "text": [
      "1 1\n",
      "2 1\n",
      "3 1\n",
      "  1\n",
      "d 1\n",
      "f 1\n",
      "  1\n",
      "/ 1\n",
      "( 1\n",
      ") 1\n"
     ]
    }
   ],
   "source": [
    "for n in \"123 df /()\": print(n, len(\" \"))"
   ]
  }
 ],
 "metadata": {
  "kernelspec": {
   "display_name": "Python 3",
   "language": "python",
   "name": "python3"
  },
  "language_info": {
   "codemirror_mode": {
    "name": "ipython",
    "version": 3
   },
   "file_extension": ".py",
   "mimetype": "text/x-python",
   "name": "python",
   "nbconvert_exporter": "python",
   "pygments_lexer": "ipython3",
   "version": "3.10.5"
  },
  "orig_nbformat": 4,
  "vscode": {
   "interpreter": {
    "hash": "98831b6e6cd6916dc543c5e2437fa0b106b838536832cab840583692f7e09b14"
   }
  }
 },
 "nbformat": 4,
 "nbformat_minor": 2
}
