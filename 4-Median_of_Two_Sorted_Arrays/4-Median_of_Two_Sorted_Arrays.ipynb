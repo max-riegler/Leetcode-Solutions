{
 "cells": [
  {
   "cell_type": "code",
   "execution_count": 3,
   "metadata": {},
   "outputs": [
    {
     "name": "stdout",
     "output_type": "stream",
     "text": [
      "2\n"
     ]
    }
   ],
   "source": [
    "class Solution:\n",
    "    def findMedianSortedArrays(self, nums1: list[int], nums2: list[int]) -> float:\n",
    "        \n",
    "        nums3 = nums1 + nums2\n",
    "        nums3.sort()\n",
    "\n",
    "        if len(nums3) % 2 != 0:\n",
    "            return nums3[int((len(nums3) - 1) / 2)]\n",
    "        elif len(nums3) % 2 == 0:\n",
    "            return (nums3[int(len(nums3) / 2)] + nums3[int((len(nums3) / 2) - 1)]) / 2\n",
    "\n",
    "sol = Solution()\n",
    "\n",
    "print(sol.findMedianSortedArrays([1,2],[2]))"
   ]
  },
  {
   "cell_type": "code",
   "execution_count": null,
   "metadata": {},
   "outputs": [],
   "source": []
  }
 ],
 "metadata": {
  "kernelspec": {
   "display_name": "Python 3",
   "language": "python",
   "name": "python3"
  },
  "language_info": {
   "codemirror_mode": {
    "name": "ipython",
    "version": 3
   },
   "file_extension": ".py",
   "mimetype": "text/x-python",
   "name": "python",
   "nbconvert_exporter": "python",
   "pygments_lexer": "ipython3",
   "version": "3.10.5"
  },
  "orig_nbformat": 4,
  "vscode": {
   "interpreter": {
    "hash": "98831b6e6cd6916dc543c5e2437fa0b106b838536832cab840583692f7e09b14"
   }
  }
 },
 "nbformat": 4,
 "nbformat_minor": 2
}
