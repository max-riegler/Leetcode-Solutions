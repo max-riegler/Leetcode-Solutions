{
 "cells": [
  {
   "cell_type": "code",
   "execution_count": 1,
   "metadata": {},
   "outputs": [
    {
     "name": "stdout",
     "output_type": "stream",
     "text": [
      "MCMXCIII\n"
     ]
    }
   ],
   "source": [
    "class Solution:\n",
    "    def intToRoman(self, num: int) -> str:\n",
    "        \n",
    "        roman = {0 : \"\", 1 : \"I\", 2 : \"II\", 3 : \"III\", 4 : \"IV\", 5 : \"V\", 6 : \"VI\", 7 : \"VII\", 8 : \"VIII\", 9 : \"IX\", 10 : \"X\", \n",
    "                20 : \"XX\", 30 : \"XXX\", 40 : \"XL\", 50 : \"L\", 60 : \"LX\", 70 : \"LXX\", 80 : \"LXXX\", 90 : \"XC\", 100 : \"C\", \n",
    "                200 : \"CC\", 300 : \"CCC\", 400 : \"CD\", 500 : \"D\", 600 : \"DC\", 700 : \"DCC\", 800 : \"DCCC\", 900 : \"CM\", 1000 : \"M\",\n",
    "                2000 : \"MM\", 3000 : \"MMM\"}\n",
    "\n",
    "        res = \"\"\n",
    "        multi = 1\n",
    "\n",
    "        for n in reversed(str(num)):\n",
    "            res = roman[int(n) * multi] + res\n",
    "            multi *= 10\n",
    "        \n",
    "        return res\n",
    "\n",
    "sol = Solution()\n",
    "\n",
    "print(sol.intToRoman(1993))"
   ]
  },
  {
   "cell_type": "code",
   "execution_count": null,
   "metadata": {},
   "outputs": [],
   "source": []
  }
 ],
 "metadata": {
  "kernelspec": {
   "display_name": "Python 3.10.5 64-bit",
   "language": "python",
   "name": "python3"
  },
  "language_info": {
   "codemirror_mode": {
    "name": "ipython",
    "version": 3
   },
   "file_extension": ".py",
   "mimetype": "text/x-python",
   "name": "python",
   "nbconvert_exporter": "python",
   "pygments_lexer": "ipython3",
   "version": "3.10.5 (tags/v3.10.5:f377153, Jun  6 2022, 16:14:13) [MSC v.1929 64 bit (AMD64)]"
  },
  "orig_nbformat": 4,
  "vscode": {
   "interpreter": {
    "hash": "98831b6e6cd6916dc543c5e2437fa0b106b838536832cab840583692f7e09b14"
   }
  }
 },
 "nbformat": 4,
 "nbformat_minor": 2
}
