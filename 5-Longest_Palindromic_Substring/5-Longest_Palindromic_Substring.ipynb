{
 "cells": [
  {
   "cell_type": "code",
   "execution_count": 46,
   "metadata": {},
   "outputs": [
    {
     "name": "stdout",
     "output_type": "stream",
     "text": [
      "bab\n"
     ]
    }
   ],
   "source": [
    "class Solution:\n",
    "    def longestPalindrome(self, s: str) -> str:\n",
    "\n",
    "        counter = len(s)\n",
    "\n",
    "        while s:\n",
    "            for n in range(len(s) - counter):\n",
    "                if s[n:n + counter + 1] == s[n:n + counter + 1][::-1]: return s[n:n + counter + 1]\n",
    "            counter -= 1\n",
    "\n",
    "sol = Solution()\n",
    "\n",
    "print(sol.longestPalindrome(\"babasdasdasd\"))"
   ]
  },
  {
   "cell_type": "code",
   "execution_count": 45,
   "metadata": {},
   "outputs": [
    {
     "name": "stdout",
     "output_type": "stream",
     "text": [
      "T\n",
      "e\n",
      "s\n",
      "t\n",
      "m\n",
      "y\n",
      "a\n",
      "s\n",
      "s\n",
      "ss\n",
      "ssaymtseT\n"
     ]
    }
   ],
   "source": [
    "def longestPalindrome(self, s):\n",
    "        longest_palindrom = ''\n",
    "        dp = [[0]*len(s) for _ in range(len(s))]\n",
    "        #filling out the diagonal by 1\n",
    "        for i in range(len(s)):\n",
    "            dp[i][i] = True\n",
    "            longest_palindrom = s[i]\n",
    "\t\t\t\n",
    "        # filling the dp table\n",
    "        for i in range(len(s)-1,-1,-1):\n",
    "\t\t\t\t# j starts from the i location : to only work on the upper side of the diagonal \n",
    "            for j in range(i+1,len(s)):  \n",
    "                if s[i] == s[j]:  #if the chars matches\n",
    "                    # if len slicied sub_string is just one letter if the characters are equal, we can say they are palindomr dp[i][j] =True \n",
    "                    #if the sliced sub_string is longer than 1, then we should check if the inner string is also palindrom (check dp[i+1][j-1] is True)\n",
    "                    if j-i ==1 or dp[i+1][j-1] is True:\n",
    "                        dp[i][j] = True\n",
    "                        # we also need to keep track of the maximum palindrom sequence \n",
    "                        if len(longest_palindrom) < len(s[i:j+1]):\n",
    "                            longest_palindrom = s[i:j+1]\n",
    "                \n",
    "        return longest_palindrom"
   ]
  },
  {
   "cell_type": "code",
   "execution_count": null,
   "metadata": {},
   "outputs": [],
   "source": [
    "class Solution:\n",
    "    def longestPalindrome(self, s: str) -> str:\n",
    "        p = ''\n",
    "        for i in range(len(s)):\n",
    "            p1 = self.get_palindrome(s, i, i+1)\n",
    "            p2 = self.get_palindrome(s, i, i)\n",
    "            p = max([p, p1, p2], key=len)\n",
    "        return p\n",
    "    \n",
    "    def get_palindrome(self, s: str, l: int, r: int) -> str:\n",
    "        while l >= 0 and r < len(s) and s[l] == s[r]:\n",
    "            l -= 1\n",
    "            r += 1\n",
    "        return s[l+1:r]"
   ]
  }
 ],
 "metadata": {
  "kernelspec": {
   "display_name": "Python 3",
   "language": "python",
   "name": "python3"
  },
  "language_info": {
   "codemirror_mode": {
    "name": "ipython",
    "version": 3
   },
   "file_extension": ".py",
   "mimetype": "text/x-python",
   "name": "python",
   "nbconvert_exporter": "python",
   "pygments_lexer": "ipython3",
   "version": "3.10.5 (tags/v3.10.5:f377153, Jun  6 2022, 16:14:13) [MSC v.1929 64 bit (AMD64)]"
  },
  "orig_nbformat": 4,
  "vscode": {
   "interpreter": {
    "hash": "98831b6e6cd6916dc543c5e2437fa0b106b838536832cab840583692f7e09b14"
   }
  }
 },
 "nbformat": 4,
 "nbformat_minor": 2
}
