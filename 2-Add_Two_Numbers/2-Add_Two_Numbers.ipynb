{
 "cells": [
  {
   "cell_type": "code",
   "execution_count": 1,
   "metadata": {},
   "outputs": [
    {
     "ename": "AttributeError",
     "evalue": "'list' object has no attribute 'val'",
     "output_type": "error",
     "traceback": [
      "\u001b[1;31m---------------------------------------------------------------------------\u001b[0m",
      "\u001b[1;31mAttributeError\u001b[0m                            Traceback (most recent call last)",
      "Cell \u001b[1;32mIn[1], line 30\u001b[0m\n\u001b[0;32m     26\u001b[0m         \u001b[39mreturn\u001b[39;00m dummy\u001b[39m.\u001b[39mnext\n\u001b[0;32m     28\u001b[0m sol \u001b[39m=\u001b[39m Solution()\n\u001b[1;32m---> 30\u001b[0m \u001b[39mprint\u001b[39m(sol\u001b[39m.\u001b[39;49maddTwoNumbers([\u001b[39m2\u001b[39;49m,\u001b[39m4\u001b[39;49m,\u001b[39m3\u001b[39;49m],[\u001b[39m2\u001b[39;49m,\u001b[39m4\u001b[39;49m,\u001b[39m3\u001b[39;49m]))\n",
      "Cell \u001b[1;32mIn[1], line 18\u001b[0m, in \u001b[0;36mSolution.addTwoNumbers\u001b[1;34m(self, l1, l2)\u001b[0m\n\u001b[0;32m     16\u001b[0m \u001b[39mwhile\u001b[39;00m l1 \u001b[39mor\u001b[39;00m l2 \u001b[39mor\u001b[39;00m carry:\n\u001b[0;32m     17\u001b[0m     \u001b[39mif\u001b[39;00m l1:\n\u001b[1;32m---> 18\u001b[0m         carry \u001b[39m+\u001b[39m\u001b[39m=\u001b[39m l1\u001b[39m.\u001b[39;49mval\n\u001b[0;32m     19\u001b[0m         l1 \u001b[39m=\u001b[39m l1\u001b[39m.\u001b[39mnext\n\u001b[0;32m     20\u001b[0m     \u001b[39mif\u001b[39;00m l2:\n",
      "\u001b[1;31mAttributeError\u001b[0m: 'list' object has no attribute 'val'"
     ]
    }
   ],
   "source": [
    "# Definition for singly-linked list.\n",
    "class ListNode:\n",
    "    def __init__(self, x):\n",
    "        self.val = x\n",
    "        self.next = None\n",
    "\n",
    "class Solution:\n",
    "    def addTwoNumbers(self, l1: ListNode, l2: ListNode) -> ListNode:\n",
    "        \"\"\"\n",
    "        :type l1: ListNode\n",
    "        :type l2: ListNode\n",
    "        :rtype: ListNode\n",
    "        \"\"\"\n",
    "        dummy = cur =ListNode(0)\n",
    "        carry = 0\n",
    "        while l1 or l2 or carry:\n",
    "            if l1:\n",
    "                carry += l1.val\n",
    "                l1 = l1.next\n",
    "            if l2:\n",
    "                carry += l2.val\n",
    "                l2 = l2.next\n",
    "            cur.next = ListNode(carry%10)\n",
    "            cur = cur.next\n",
    "            carry //=10\n",
    "        return dummy.next\n",
    "\n",
    "sol = Solution()\n",
    "\n",
    "print(sol.addTwoNumbers([2,4,3],[2,4,3]))"
   ]
  },
  {
   "cell_type": "code",
   "execution_count": null,
   "metadata": {},
   "outputs": [],
   "source": []
  }
 ],
 "metadata": {
  "kernelspec": {
   "display_name": "Python 3",
   "language": "python",
   "name": "python3"
  },
  "language_info": {
   "codemirror_mode": {
    "name": "ipython",
    "version": 3
   },
   "file_extension": ".py",
   "mimetype": "text/x-python",
   "name": "python",
   "nbconvert_exporter": "python",
   "pygments_lexer": "ipython3",
   "version": "3.10.5"
  },
  "orig_nbformat": 4,
  "vscode": {
   "interpreter": {
    "hash": "98831b6e6cd6916dc543c5e2437fa0b106b838536832cab840583692f7e09b14"
   }
  }
 },
 "nbformat": 4,
 "nbformat_minor": 2
}
