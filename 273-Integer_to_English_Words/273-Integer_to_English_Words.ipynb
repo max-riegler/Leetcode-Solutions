{
 "cells": [
  {
   "cell_type": "code",
   "execution_count": 28,
   "metadata": {},
   "outputs": [
    {
     "name": "stdout",
     "output_type": "stream",
     "text": [
      "One Millon Two Hundred Thirty Four Thousand Five Hundred Sixty Seven\n"
     ]
    }
   ],
   "source": [
    "class Solution:\n",
    "\n",
    "    def numberToWords(self, num: int) -> str:\n",
    "        def helper(num):\n",
    "    \n",
    "            words = { 0 : \"\", 1 : \"One\", 2 : \"Two\", 3 : \"Three\", 4 : \"Four\", 5 : \"Five\", 6 : \"Six\", 7 : \"Seven\", 8 : \"Eight\", 9 : \"Nine\", 10 : \"Ten\", \n",
    "        11 : \"Eleven\", 12 : \"Twelve\", 13 : \"Thirteen\", 14 : \"Fourteen\", 15 : \"Fifteen\", 16 : \"Sixteen\", 17 : \"Seventeen\", 18 : \"Eighteen\", 19 : \"Nineteen\", \n",
    "        20 : \"Twenty\", 30 : \"Thirty\", 40 : \"Forty\", 50 : \"Fifty\", 60 : \"Sixty\", 70 : \"Seventy\", 80 : \"Eighty\", 90 : \"Ninety\",\n",
    "        100 : \"Hundred\"}\n",
    "    \n",
    "            res = \"\"\n",
    "            counter = 0\n",
    "\n",
    "            for n in reversed(str(num)):  \n",
    "                if 3 > counter > 1 and int(n) != 0:\n",
    "                    res = words[int(n)] + \" \" + words[10 ** counter] + \" \" + res\n",
    "                    counter += 1\n",
    "                if counter <= 1 and int(n) != 0:\n",
    "                    # the list(words.keys())[list(words.values()).index(res.strip())] part is simply there to extract the key to the value of the previous digit\n",
    "                    if counter == 1 and int(n) == 1:\n",
    "                        res = words[int(n) * (10 ** counter) + list(words.keys())[list(words.values()).index(res.strip())]]\n",
    "                        counter += 1\n",
    "                    else:\n",
    "                        res = words[int(n) * (10 ** counter)] + \" \" + res\n",
    "                        counter += 1\n",
    "                if int(n) == 0:\n",
    "                    counter += 1\n",
    "            if not res:\n",
    "                return \"Zero\"\n",
    "            else:\n",
    "                return res.strip()\n",
    "\n",
    "        res = \"\"\n",
    "        bignum = [\"\", \"Thousand\", \"Million\", \"Billion\"]\n",
    "\n",
    "        for n in range(3,-1,-1):\n",
    "            dummy = num // (10 ** (3 * n))\n",
    "            if dummy != 0:\n",
    "                res += helper(dummy) + \" \" + bignum[n] + \" \"\n",
    "                num -= dummy * 10 ** (3 * n)\n",
    "        if not res:\n",
    "            return \"Zero\"\n",
    "        else:\n",
    "            return res.strip()\n",
    "        \n",
    "sol = Solution()\n",
    "\n",
    "print(sol.numberToWords(1234567))"
   ]
  },
  {
   "cell_type": "code",
   "execution_count": 21,
   "metadata": {},
   "outputs": [
    {
     "data": {
      "text/plain": [
       "1"
      ]
     },
     "execution_count": 21,
     "metadata": {},
     "output_type": "execute_result"
    }
   ],
   "source": [
    "1234567//1000000"
   ]
  }
 ],
 "metadata": {
  "kernelspec": {
   "display_name": "Python 3.10.5 64-bit",
   "language": "python",
   "name": "python3"
  },
  "language_info": {
   "codemirror_mode": {
    "name": "ipython",
    "version": 3
   },
   "file_extension": ".py",
   "mimetype": "text/x-python",
   "name": "python",
   "nbconvert_exporter": "python",
   "pygments_lexer": "ipython3",
   "version": "3.10.5"
  },
  "orig_nbformat": 4,
  "vscode": {
   "interpreter": {
    "hash": "98831b6e6cd6916dc543c5e2437fa0b106b838536832cab840583692f7e09b14"
   }
  }
 },
 "nbformat": 4,
 "nbformat_minor": 2
}
