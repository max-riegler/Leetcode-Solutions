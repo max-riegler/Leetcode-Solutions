{
 "cells": [
  {
   "cell_type": "code",
   "execution_count": 12,
   "metadata": {},
   "outputs": [
    {
     "name": "stdout",
     "output_type": "stream",
     "text": [
      "3\n"
     ]
    }
   ],
   "source": [
    "class Solution:\n",
    "    def hIndex(self, citations: list[int]) -> int:\n",
    "        \n",
    "        h = 0\n",
    "        citations.sort(reverse=True)\n",
    "\n",
    "        for n in citations:\n",
    "            if n <= h: break\n",
    "            else: h += 1\n",
    "        \n",
    "        return h\n",
    "\n",
    "sol = Solution()\n",
    "\n",
    "print(sol.hIndex([6,2,9,23]))"
   ]
  }
 ],
 "metadata": {
  "kernelspec": {
   "display_name": "Python 3",
   "language": "python",
   "name": "python3"
  },
  "language_info": {
   "codemirror_mode": {
    "name": "ipython",
    "version": 3
   },
   "file_extension": ".py",
   "mimetype": "text/x-python",
   "name": "python",
   "nbconvert_exporter": "python",
   "pygments_lexer": "ipython3",
   "version": "3.10.5"
  },
  "orig_nbformat": 4,
  "vscode": {
   "interpreter": {
    "hash": "98831b6e6cd6916dc543c5e2437fa0b106b838536832cab840583692f7e09b14"
   }
  }
 },
 "nbformat": 4,
 "nbformat_minor": 2
}
